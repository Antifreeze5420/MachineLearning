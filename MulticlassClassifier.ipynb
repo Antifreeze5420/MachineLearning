{
 "cells": [
  {
   "cell_type": "code",
   "execution_count": 8,
   "id": "c55574ef-6337-4f40-8d84-1f61302db201",
   "metadata": {},
   "outputs": [],
   "source": [
    "from sklearn.linear_model import LogisticRegression\n",
    "from sklearn import datasets\n",
    "from sklearn.metrics import accuracy_score\n",
    "from sklearn.model_selection import train_test_split\n",
    "import pandas as pd\n",
    "from sklearn.preprocessing import StandardScaler\n",
    "beans = pd.read_csv(\"Dry_Bean_Dataset.csv\")\n",
    "features = beans.drop([\"Class\"], axis = 1)\n",
    "target = beans.filter([\"Class\"], axis = 1)\n",
    "scaler = StandardScaler()\n",
    "features_standardized = scaler.fit_transform(features)\n",
    "X_train, X_test, y_train, y_test = train_test_split(features_standardized,target, test_size = 0.2,random_state = 42)\n"
   ]
  },
  {
   "cell_type": "code",
   "execution_count": 9,
   "id": "d5ded657-aeb2-431b-a3db-fea641d24972",
   "metadata": {},
   "outputs": [
    {
     "name": "stderr",
     "output_type": "stream",
     "text": [
      "C:\\Users\\incor\\anaconda3\\lib\\site-packages\\sklearn\\utils\\validation.py:1229: DataConversionWarning: A column-vector y was passed when a 1d array was expected. Please change the shape of y to (n_samples, ), for example using ravel().\n",
      "  y = column_or_1d(y, warn=True)\n"
     ]
    }
   ],
   "source": [
    "logistic_regression = LogisticRegression(random_state = 0, multi_class = \"ovr\")\n",
    "model = logistic_regression.fit(features_standardized,target)"
   ]
  },
  {
   "cell_type": "code",
   "execution_count": 10,
   "id": "f00f0631-7d02-48f2-8c14-609b93086c51",
   "metadata": {},
   "outputs": [
    {
     "data": {
      "text/plain": [
       "array([[3.29220959e-04, 2.26824800e-05, 8.60793894e-07, ...,\n",
       "        4.07154242e-08, 9.89348095e-01, 5.79027624e-03],\n",
       "       [9.93026564e-01, 2.67426921e-06, 1.43491442e-03, ...,\n",
       "        9.30771634e-04, 5.12527605e-07, 4.60455939e-03],\n",
       "       [6.06594628e-05, 3.83975225e-06, 4.80070532e-08, ...,\n",
       "        1.66176167e-07, 9.10409186e-01, 4.32924130e-03],\n",
       "       ...,\n",
       "       [1.74811580e-07, 9.79934757e-08, 2.36348780e-10, ...,\n",
       "        6.98343516e-06, 1.74302014e-03, 2.84836300e-04],\n",
       "       [1.64392506e-01, 7.83075126e-05, 8.34295478e-01, ...,\n",
       "        2.29413283e-04, 7.47283536e-06, 9.96815312e-04],\n",
       "       [3.84595684e-04, 2.47136612e-07, 5.12773942e-05, ...,\n",
       "        5.46647830e-04, 5.88089052e-03, 5.67609318e-01]])"
      ]
     },
     "execution_count": 10,
     "metadata": {},
     "output_type": "execute_result"
    }
   ],
   "source": [
    "y_pred = model.predict(X_test)\n",
    "model.predict_proba(X_test)\n"
   ]
  },
  {
   "cell_type": "code",
   "execution_count": 11,
   "id": "eee68f57-31f0-457d-a966-9957f0dcf668",
   "metadata": {},
   "outputs": [
    {
     "data": {
      "text/plain": [
       "0.9217774513404333"
      ]
     },
     "execution_count": 11,
     "metadata": {},
     "output_type": "execute_result"
    }
   ],
   "source": [
    "accuracy_score(y_pred, y_test)"
   ]
  },
  {
   "cell_type": "code",
   "execution_count": null,
   "id": "26fc0ea6-54d0-42b6-8f72-c8366e4b7d21",
   "metadata": {},
   "outputs": [],
   "source": []
  }
 ],
 "metadata": {
  "kernelspec": {
   "display_name": "Python 3 (ipykernel)",
   "language": "python",
   "name": "python3"
  },
  "language_info": {
   "codemirror_mode": {
    "name": "ipython",
    "version": 3
   },
   "file_extension": ".py",
   "mimetype": "text/x-python",
   "name": "python",
   "nbconvert_exporter": "python",
   "pygments_lexer": "ipython3",
   "version": "3.10.13"
  }
 },
 "nbformat": 4,
 "nbformat_minor": 5
}
